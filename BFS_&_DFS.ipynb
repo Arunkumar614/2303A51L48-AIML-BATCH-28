{
  "nbformat": 4,
  "nbformat_minor": 0,
  "metadata": {
    "colab": {
      "provenance": [],
      "authorship_tag": "ABX9TyODVCUDJZtmZN9jI3AufHCu",
      "include_colab_link": true
    },
    "kernelspec": {
      "name": "python3",
      "display_name": "Python 3"
    },
    "language_info": {
      "name": "python"
    }
  },
  "cells": [
    {
      "cell_type": "markdown",
      "metadata": {
        "id": "view-in-github",
        "colab_type": "text"
      },
      "source": [
        "<a href=\"https://colab.research.google.com/github/Arunkumar614/2303A51L48-AIML-BATCH-28/blob/main/BFS_%26_DFS.ipynb\" target=\"_parent\"><img src=\"https://colab.research.google.com/assets/colab-badge.svg\" alt=\"Open In Colab\"/></a>"
      ]
    },
    {
      "cell_type": "code",
      "execution_count": null,
      "metadata": {
        "colab": {
          "base_uri": "https://localhost:8080/"
        },
        "id": "O6wV8qMmAGq0",
        "outputId": "41153122-875d-4065-f1d9-3c13c2e092a0"
      },
      "outputs": [
        {
          "output_type": "stream",
          "name": "stdout",
          "text": [
            "BFS traversal starting from vertex 0 :\n",
            "0 1 3 2 4 5 "
          ]
        }
      ],
      "source": [
        "from collections import deque\n",
        "\n",
        "def bfs(graph, start_vertex):\n",
        "    visited = set()\n",
        "    queue = deque([start_vertex])\n",
        "\n",
        "    while queue:\n",
        "        current_vertex = queue.popleft()\n",
        "        if current_vertex not in visited:\n",
        "            print(current_vertex, end=' ')\n",
        "            visited.add(current_vertex)\n",
        "\n",
        "\n",
        "            queue.extend(neighbor for neighbor in graph[current_vertex] if neighbor not in visited)\n",
        "\n",
        "\n",
        "graph = {\n",
        "    0: [1, 3],\n",
        "    1: [0, 2, 3],\n",
        "    2: [1, 4, 5],\n",
        "    3: [0, 1, 4],\n",
        "    4: [2, 3, 5],\n",
        "    5: [2, 4],\n",
        "}\n",
        "\n",
        "start_vertex = 0\n",
        "print(\"BFS traversal starting from vertex\", start_vertex, \":\")\n",
        "bfs(graph, start_vertex)"
      ]
    },
    {
      "cell_type": "code",
      "source": [
        "def dfs(graph, start):\n",
        "    visited = set()\n",
        "    stack = [start]\n",
        "\n",
        "    while stack:\n",
        "        current_node = stack.pop()\n",
        "\n",
        "        if current_node not in visited:\n",
        "            print(current_node, end=' ')\n",
        "            visited.add(current_node)\n",
        "\n",
        "            # Push neighboring nodes onto the stack in reverse order to maintain desired order\n",
        "            stack.extend(neighbor for neighbor in reversed(graph[current_node]) if neighbor not in visited)\n",
        "\n",
        "# Example graph represented as an adjacency list\n",
        "graph = {\n",
        "    'A': ['B', 'S'],\n",
        "    'B': ['A'],\n",
        "    'C': ['D', 'E', 'F','S'],\n",
        "    'D': ['C'],\n",
        "    'E': ['H', 'C'],\n",
        "    'F': ['C','G'],\n",
        "    'G': ['S','H','F'],\n",
        "    'H': ['G','E'],\n",
        "    'S': ['A','C','G'],\n",
        "}\n",
        "\n",
        "start_node = 'A'\n",
        "print(\"DFS traversal starting from node\", start_node)\n",
        "dfs(graph, start_node)\n"
      ],
      "metadata": {
        "colab": {
          "base_uri": "https://localhost:8080/"
        },
        "id": "WpWcGWU_Ix4M",
        "outputId": "2c5088de-f363-4067-9541-24605e6416c7"
      },
      "execution_count": null,
      "outputs": [
        {
          "output_type": "stream",
          "name": "stdout",
          "text": [
            "DFS traversal starting from node A\n",
            "A B S C D E H G F "
          ]
        }
      ]
    }
  ]
}